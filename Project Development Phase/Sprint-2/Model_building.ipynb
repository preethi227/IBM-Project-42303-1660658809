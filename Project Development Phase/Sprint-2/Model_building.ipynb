{
  "nbformat": 4,
  "nbformat_minor": 0,
  "metadata": {
    "colab": {
      "provenance": []
    },
    "kernelspec": {
      "name": "python3",
      "display_name": "Python 3"
    },
    "language_info": {
      "name": "python"
    }
  },
  "cells": [
    {
      "cell_type": "code",
      "execution_count": 1,
      "metadata": {
        "id": "CJtPKaosyeZt"
      },
      "outputs": [],
      "source": [
        "import pandas as pd\n",
        "import numpy as np\n",
        "import matplotlib as plt\n",
        "from sklearn. preprocessing import LabelEncoder\n",
        "import pickle"
      ]
    },
    {
      "cell_type": "code",
      "source": [
        "df = pd.read_csv(\"autos.csv\",header=0,sep=',',encoding='Latin1',)"
      ],
      "metadata": {
        "id": "g_4voco7yr2L"
      },
      "execution_count": 2,
      "outputs": []
    },
    {
      "cell_type": "code",
      "source": [
        "\n",
        "df[df.seller != 'gewerblich']\n",
        "df=df.drop( 'seller', 1)\n",
        "df[df.offerType != 'Gesuch']\n",
        "df=df.drop( 'offerType', 1)"
      ],
      "metadata": {
        "id": "BnOyo6WCyuo6",
        "colab": {
          "base_uri": "https://localhost:8080/"
        },
        "outputId": "5c8dade1-c645-4387-e890-2051fe44e8fd"
      },
      "execution_count": 3,
      "outputs": [
        {
          "output_type": "stream",
          "name": "stderr",
          "text": [
            "/usr/local/lib/python3.7/dist-packages/ipykernel_launcher.py:2: FutureWarning: In a future version of pandas all arguments of DataFrame.drop except for the argument 'labels' will be keyword-only\n",
            "  \n",
            "/usr/local/lib/python3.7/dist-packages/ipykernel_launcher.py:4: FutureWarning: In a future version of pandas all arguments of DataFrame.drop except for the argument 'labels' will be keyword-only\n",
            "  after removing the cwd from sys.path.\n"
          ]
        }
      ]
    },
    {
      "cell_type": "code",
      "source": [
        "df = df[ (df.powerPS > 50) & (df.powerPS < 900) ]\n",
        "df = df[ (df.yearOfRegistration >= 1950) & (df.yearOfRegistration < 2017)]"
      ],
      "metadata": {
        "id": "sf_B5sj1yw04"
      },
      "execution_count": 4,
      "outputs": []
    },
    {
      "cell_type": "code",
      "source": [
        "df.drop(['name','abtest','dateCrawled','nrOfPictures','lastSeen','postalCode','dateCreated'],axis='columns',inplace=True)"
      ],
      "metadata": {
        "id": "3mMTQqzFy2tc"
      },
      "execution_count": 5,
      "outputs": []
    },
    {
      "cell_type": "code",
      "source": [
        "new_df = df.copy()\n",
        "new_df = new_df.drop_duplicates(['price','vehicleType','yearOfRegistration','gearbox','powerPS','model','kilometer','monthOfRegistration','fuelType','notRepairedDamage'])"
      ],
      "metadata": {
        "id": "AInsQYaxy4qy"
      },
      "execution_count": 6,
      "outputs": []
    },
    {
      "cell_type": "code",
      "source": [
        "new_df.gearbox.replace(('manuell','automatik'),('manual','automatic'),inplace=True)\n",
        "new_df.fuelType.replace(('benzin','andere','elektro'),('petrol','others','electirc'),inplace=True)\n",
        "new_df.vehicleType.replace(('kleinwagen','cabrio','kombi','andere'),('small car','convertible','combination','others'),inplace=True)\n",
        "new_df.notRepairedDamage.replace(('ja','nein'),('Yes','No'),inplace=True)"
      ],
      "metadata": {
        "id": "j_wUTrWiy6t8"
      },
      "execution_count": 7,
      "outputs": []
    },
    {
      "cell_type": "code",
      "source": [
        "new_df = new_df[(new_df.price >= 100) & (new_df.price <= 150000)]"
      ],
      "metadata": {
        "id": "czj0oGjoy9qQ"
      },
      "execution_count": 8,
      "outputs": []
    },
    {
      "cell_type": "code",
      "source": [
        "new_df['notRepairedDamage'].fillna(value='not-declared',inplace=True)\n",
        "new_df['fuelType'].fillna(value='not-declared',inplace=True)\n",
        "new_df['gearbox'].fillna(value='not-declared',inplace=True)\n",
        "new_df['vehicleType'].fillna(value='not-declared',inplace=True)\n",
        "new_df['model'].fillna(value='not-declared',inplace=True)"
      ],
      "metadata": {
        "id": "AuTy3jMCy_kX"
      },
      "execution_count": 9,
      "outputs": []
    },
    {
      "cell_type": "code",
      "source": [
        "new_df.to_csv(\"autos_preprocessed.csv\")\n",
        "\n",
        "#label encoding the categorical data\n",
        "labels = ['gearbox','notRepairedDamage','model','brand','fuelType','vehicleType']"
      ],
      "metadata": {
        "id": "95H6MdGuzBUK"
      },
      "execution_count": 10,
      "outputs": []
    },
    {
      "cell_type": "code",
      "source": [
        "mapper = {}\n",
        "for i in labels:\n",
        "\tmapper[i] = LabelEncoder()\n",
        "\tmapper[i].fit(new_df[i])\n",
        "\ttr = mapper[i].transform(new_df[i])\n",
        "\tnp.save(str('classes'+i+'.npy'),mapper[i].classes_)\n",
        "\tprint(i,\";\",mapper[i])\n",
        "\tnew_df.loc[:,i+'_labels'] = pd.Series(tr,index = new_df.index)\n",
        "labeled = new_df[ [ 'price' , 'yearOfRegistration','powerPS','kilometer','monthOfRegistration'] + [x+\"_labels\" for x in labels]]"
      ],
      "metadata": {
        "id": "zHzSuFnMzFNd",
        "colab": {
          "base_uri": "https://localhost:8080/"
        },
        "outputId": "2fb56adf-07a6-494b-e712-2edb44bdfc8a"
      },
      "execution_count": 11,
      "outputs": [
        {
          "output_type": "stream",
          "name": "stdout",
          "text": [
            "gearbox ; LabelEncoder()\n",
            "notRepairedDamage ; LabelEncoder()\n",
            "model ; LabelEncoder()\n",
            "brand ; LabelEncoder()\n",
            "fuelType ; LabelEncoder()\n",
            "vehicleType ; LabelEncoder()\n"
          ]
        }
      ]
    },
    {
      "cell_type": "code",
      "source": [
        "print(labeled.columns)"
      ],
      "metadata": {
        "id": "WEMhNS7JzHYR",
        "colab": {
          "base_uri": "https://localhost:8080/"
        },
        "outputId": "7cb9463e-2981-431b-a670-d5e41e021f6c"
      },
      "execution_count": 12,
      "outputs": [
        {
          "output_type": "stream",
          "name": "stdout",
          "text": [
            "Index(['price', 'yearOfRegistration', 'powerPS', 'kilometer',\n",
            "       'monthOfRegistration', 'gearbox_labels', 'notRepairedDamage_labels',\n",
            "       'model_labels', 'brand_labels', 'fuelType_labels',\n",
            "       'vehicleType_labels'],\n",
            "      dtype='object')\n"
          ]
        }
      ]
    },
    {
      "cell_type": "code",
      "source": [
        "Y = labeled.iloc[:,0].values\n",
        "X = labeled.iloc[:,1:].values"
      ],
      "metadata": {
        "id": "ruUYlU8yzJVv"
      },
      "execution_count": 13,
      "outputs": []
    },
    {
      "cell_type": "code",
      "source": [
        "Y = Y.reshape(-1,1)\n",
        "from sklearn.model_selection import cross_val_score , train_test_split\n",
        "X_train,X_test,Y_train,Y_test = train_test_split(X,Y,test_size=0.3,random_state=3)"
      ],
      "metadata": {
        "id": "yLPrwxAczMlw"
      },
      "execution_count": 14,
      "outputs": []
    },
    {
      "cell_type": "code",
      "source": [
        "from sklearn.ensemble import RandomForestRegressor\n",
        "from sklearn.metrics import r2_score\n",
        "regressor = RandomForestRegressor(n_estimators = 1000,max_depth=10,random_state=34)"
      ],
      "metadata": {
        "id": "9PKn87xL1NoY"
      },
      "execution_count": 15,
      "outputs": []
    },
    {
      "cell_type": "code",
      "source": [
        "regressor.fit(X_train,np.ravel(Y_train,order='C'))"
      ],
      "metadata": {
        "colab": {
          "base_uri": "https://localhost:8080/"
        },
        "id": "GjJ-U_2o1a_t",
        "outputId": "5cfeee6f-b4b3-406e-9808-c67125b69a49"
      },
      "execution_count": 16,
      "outputs": [
        {
          "output_type": "execute_result",
          "data": {
            "text/plain": [
              "RandomForestRegressor(max_depth=10, n_estimators=1000, random_state=34)"
            ]
          },
          "metadata": {},
          "execution_count": 16
        }
      ]
    },
    {
      "cell_type": "code",
      "source": [
        "y_pred = regressor.predict(X_test)\n",
        "print(r2_score(Y_test,y_pred))"
      ],
      "metadata": {
        "colab": {
          "base_uri": "https://localhost:8080/"
        },
        "id": "XJ-hFsBD1dce",
        "outputId": "02fbb182-7d93-40c5-e4a0-dd065e641883"
      },
      "execution_count": 17,
      "outputs": [
        {
          "output_type": "stream",
          "name": "stdout",
          "text": [
            "0.8042868905072561\n"
          ]
        }
      ]
    },
    {
      "cell_type": "code",
      "source": [
        "filename = 'resale_model.sav'\n",
        "pickle.dump(regressor,open(filename,'wb'))"
      ],
      "metadata": {
        "id": "vSWd6wMG1fcc"
      },
      "execution_count": null,
      "outputs": []
    }
  ]
}
